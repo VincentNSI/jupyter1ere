{
 "cells": [
  {
   "cell_type": "markdown",
   "metadata": {},
   "source": [
    "# VI - Les particularités du typage dans le langage Python"
   ]
  },
  {
   "cell_type": "markdown",
   "metadata": {},
   "source": [
    "## Python, langage à Typage fort"
   ]
  },
  {
   "cell_type": "markdown",
   "metadata": {},
   "source": [
    "Un programme Python ne fait toujours ce que l'on croit.\n",
    "Pour chacune des 3 cellules suivantes, essayez de deviner ce que va faire le programme, puis exécutez pour vérifier. "
   ]
  },
  {
   "cell_type": "code",
   "execution_count": null,
   "metadata": {},
   "outputs": [],
   "source": [
    "nombre1 = input(\"entrez un entier : \")\n",
    "resultat1 = 3 * nombre1\n",
    "print(resultat1)"
   ]
  },
  {
   "cell_type": "code",
   "execution_count": null,
   "metadata": {},
   "outputs": [],
   "source": [
    "nombre2 = input(\"entrez un entier : \")\n",
    "resultat2 = nombre1 + nombre2  \n",
    "print(resultat2)"
   ]
  },
  {
   "cell_type": "markdown",
   "metadata": {},
   "source": [
    "Ces 2 premiers exemples nous montrent que les opérations + et * ne fonctionnent pas comme attendues.\n",
    "<br/>D'après vous, quel peut être le problème ?\n",
    "<br/>Vérifions avec un troisième exemple."
   ]
  },
  {
   "cell_type": "code",
   "execution_count": null,
   "metadata": {},
   "outputs": [],
   "source": [
    "resultat3 = nombre1 * nombre2  \n",
    "print(resultat3)"
   ]
  },
  {
   "cell_type": "markdown",
   "metadata": {},
   "source": [
    "Dans cet exemple, une erreur de typage est levée : \"<span style=\"color:red\">TypeError:</span> can't multiply sequence by non-int of type 'str'\".\n",
    "<br/>On comprend ici que l'on ne peut pas multiplier n'importe quelles variables entre elles. Ce sont les types des variables qui déterminent les opérations que l'on peut réaliser, et ce qu'elles font."
   ]
  },
  {
   "cell_type": "code",
   "execution_count": null,
   "metadata": {},
   "outputs": [],
   "source": [
    "nombre3 = 12\n",
    "nombre4 = 14\n",
    "resultat4 = nombre3 + nombre4\n",
    "print(resultat4)"
   ]
  },
  {
   "cell_type": "markdown",
   "metadata": {},
   "source": [
    "Ici nombre3 et nombre4 sont bien des int (integers => entiers) et l'opérateur + est bien l'addition.\n",
    "Il est possible de vérifier le type d'une variable avec la fonction type(), comme ci-dessous."
   ]
  },
  {
   "cell_type": "code",
   "execution_count": null,
   "metadata": {},
   "outputs": [],
   "source": [
    "print(type(nombre3))\n",
    "print(type(nombre4))"
   ]
  },
  {
   "cell_type": "markdown",
   "metadata": {},
   "source": [
    "Voyons ce que donne cette vérification avec nombre1 et nombre2."
   ]
  },
  {
   "cell_type": "code",
   "execution_count": null,
   "metadata": {},
   "outputs": [],
   "source": [
    "print(type(nombre1))\n",
    "print(type(nombre2))"
   ]
  },
  {
   "cell_type": "markdown",
   "metadata": {},
   "source": [
    "nombre1 et nombre2 sont de type str (strings => chaînes de caractères) du fait de la fonction input().\n",
    "C'est pourquoi dans les exemples du début, on obtient une contaténation, une répétition de chaîne et une opération impossible (multiplication d'une chaîne par une autre chaîne).\n",
    "\n",
    "Python est langage de <strong>typage fort</strong>, car il ne modifie pas tout seul le type d'une variable et préfère signaler une erreur."
   ]
  },
  {
   "cell_type": "markdown",
   "metadata": {},
   "source": [
    "## Python, langage à typage dynamique"
   ]
  },
  {
   "cell_type": "code",
   "execution_count": null,
   "metadata": {},
   "outputs": [],
   "source": [
    "nombre1 = input(\"entrez un entier \")\n",
    "print(nombre1, type(nombre1))\n",
    "nombre1 = int(nombre1)\n",
    "print(nombre1, type(nombre1))\n",
    "resultat1= 3 * nombre1\n",
    "print(resultat1)"
   ]
  },
  {
   "cell_type": "markdown",
   "metadata": {},
   "source": [
    "En Python, on peut modifier la valeur d'une variable, et même modifier le type des valeurs qu'elle peut prendre.\n",
    "<br/>Ci-dessus, nombre1 est du type str au début, et la fonction int() en fait une variable de type int (integer), que l'on stocke dans la même variable nombre1. "
   ]
  },
  {
   "cell_type": "code",
   "execution_count": null,
   "metadata": {},
   "outputs": [],
   "source": [
    "a = 12\n",
    "print(a, type(a))\n",
    "a = \"toto\"\n",
    "print(a, type(a))\n",
    "a = 3.8\n",
    "print(a, type(a))\n",
    "a = [1, 3, 2]\n",
    "print(a, type(a))"
   ]
  },
  {
   "cell_type": "markdown",
   "metadata": {},
   "source": [
    "De manière générale, le typage dynamique de Python permet de manipuler différents types de valeurs avec la même variable."
   ]
  },
  {
   "cell_type": "markdown",
   "metadata": {},
   "source": [
    "## Exercices"
   ]
  },
  {
   "cell_type": "markdown",
   "metadata": {},
   "source": [
    "Corriger les problèmes de typages dans les exemples suivants. (Prennez le temps de lire les messages d'erreurs donnés par l'interpréteur, pour comprendre ce qui ne va pas.)"
   ]
  },
  {
   "cell_type": "code",
   "execution_count": null,
   "metadata": {},
   "outputs": [],
   "source": [
    "age = input(\"Quel est votre âge ? \")\n",
    "age_dans_10_ans = age + 10\n",
    "print(\"Ton age dans 10 ans :\", age_dans_10_ans)"
   ]
  },
  {
   "cell_type": "code",
   "execution_count": null,
   "metadata": {},
   "outputs": [],
   "source": [
    "nom = \"toto\"\n",
    "nom = int(nom)\n",
    "print(\"bonne blague\" + nom)"
   ]
  },
  {
   "cell_type": "code",
   "execution_count": null,
   "metadata": {},
   "outputs": [],
   "source": [
    "mot_de_passe = 1234\n",
    "if mot_de_passe == \"1234\":\n",
    "    print(\"Vous pouvez passer !\")\n",
    "else:\n",
    "    print(\"Mot de passe erroné...\")"
   ]
  }
 ],
 "metadata": {
  "kernelspec": {
   "display_name": "Python 3",
   "language": "python",
   "name": "python3"
  },
  "language_info": {
   "codemirror_mode": {
    "name": "ipython",
    "version": 3
   },
   "file_extension": ".py",
   "mimetype": "text/x-python",
   "name": "python",
   "nbconvert_exporter": "python",
   "pygments_lexer": "ipython3",
   "version": "3.7.3"
  }
 },
 "nbformat": 4,
 "nbformat_minor": 2
}
