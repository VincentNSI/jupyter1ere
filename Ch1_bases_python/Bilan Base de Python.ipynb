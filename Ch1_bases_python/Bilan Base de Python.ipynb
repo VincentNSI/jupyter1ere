{
 "cells": [
  {
   "cell_type": "markdown",
   "metadata": {},
   "source": [
    "## Ce Notebook concerne les bases de Python vue depuis le début d'année. Il est à faire cette semaine et à rendre par mail."
   ]
  },
  {
   "cell_type": "markdown",
   "metadata": {},
   "source": [
    "**Exercice 1 :** Les scripts suivants ont tous des erreurs, de syntaxe, d'indentation, de type de variable ou de résultats attendus.  \n",
    "A vous de les corriger pour qu'ils fonctionnent"
   ]
  },
  {
   "cell_type": "code",
   "execution_count": null,
   "metadata": {},
   "outputs": [],
   "source": [
    "#script1\n",
    "a=\"kiwi\"\n",
    "b=poire\n",
    "c=\"banane\n",
    "print(\"salade de fuits : \")\n",
    "print(a+b+c)"
   ]
  },
  {
   "cell_type": "code",
   "execution_count": null,
   "metadata": {},
   "outputs": [],
   "source": [
    "#script2\n",
    "a=5\n",
    "if a>0:\n",
    "print(\"a est supérieur à 0\")"
   ]
  },
  {
   "cell_type": "code",
   "execution_count": null,
   "metadata": {},
   "outputs": [],
   "source": [
    "#script3\n",
    "calcul=(3*2)+7*(5-(2+2)\n",
    "print(\"résultat = \",calcul)"
   ]
  },
  {
   "cell_type": "code",
   "execution_count": null,
   "metadata": {},
   "outputs": [],
   "source": [
    "#script4\n",
    "print(\"voici les entiers de 1 à 10 :\")\n",
    "for i in range(10):\n",
    "print(i)    "
   ]
  },
  {
   "cell_type": "code",
   "execution_count": null,
   "metadata": {},
   "outputs": [],
   "source": [
    "#script5\n",
    "a=input(\"choisis un nombre entier \")\n",
    "if a%2=0 : \n",
    "    print(\"ton nombre est pair\")\n",
    "else :\n",
    "    print(\"ton nombre est impair\")"
   ]
  },
  {
   "cell_type": "markdown",
   "metadata": {},
   "source": [
    "**Exercice 2 :** Le programme magique  \n",
    "Ecris le programme suivant :\n",
    "* L'utilisateur choisis un entier positif n\n",
    "* Cet entier n est mis au carré et on lui enlève 20 : on enregistre le résultat dans a, on affiche a.\n",
    "* Cet entier n est multiplié par son successeur : on enregistre le résultat dans b, on affiche b.\n",
    "* Cet entier n est ajouter à 10 : on enregistre le résultat dans c, on affiche c.\n",
    "* On calcule a-b+c, on affiche le résultat et on remarque que pour n'importe quel n, le résultat est toujours le même"
   ]
  },
  {
   "cell_type": "code",
   "execution_count": null,
   "metadata": {},
   "outputs": [],
   "source": [
    "#Ecrire le programme nombre magique ci-dessous\n",
    "\n",
    "\n"
   ]
  },
  {
   "cell_type": "markdown",
   "metadata": {},
   "source": [
    "**Exercice 3 :** Notation Américaine  \n",
    "A partir d'une note d'un contrôle que l'utilisateur entre, le programme doit afficher la note americaine correspondante.  \n",
    "\n",
    "C'est à dire si la note est supérieure ou égale à 16, il affiche \"A\", entre 12 et 16 il affiche \"B\", entre 10 et 12 il affiche \"C+\", entre 8 et 10 il affiche \"C-\", entre 4 et 8 il affiche D, en dessous il affiche \"E\""
   ]
  },
  {
   "cell_type": "code",
   "execution_count": null,
   "metadata": {},
   "outputs": [],
   "source": [
    "#Ecrire ce programme Notation Américaine ci-dessous\n",
    "\n"
   ]
  },
  {
   "cell_type": "markdown",
   "metadata": {},
   "source": [
    "**Exercice 4:** Parcours de phrase  \n",
    "Le programme demande une à l'utilisateur d'écrire une phrase.  \n",
    "Mais l'ordinateur est capricieux, il va afficher la phrase en changeant tous les lettres \"rondes\" (UOQDGJCB) en un dollars $.  \n"
   ]
  },
  {
   "cell_type": "code",
   "execution_count": null,
   "metadata": {},
   "outputs": [],
   "source": [
    "#Ecrire le programme parcours de phrase ci-dessous\n",
    "\n"
   ]
  },
  {
   "cell_type": "markdown",
   "metadata": {},
   "source": [
    "**Exercice 5 :** Q pour quitter  \n",
    "Avec une boucle while, créer une boucle infinie qui posera toujours la même question :  \n",
    "\"Appuyer sur Q pour quitter\"  \n",
    "Si on appuie sur \"q\" ou \"Q\" on sort bien sûr de la boucle infinie"
   ]
  },
  {
   "cell_type": "code",
   "execution_count": null,
   "metadata": {},
   "outputs": [],
   "source": [
    "#Ecrire le programme Q pour quitter ci-dessous\n",
    "\n"
   ]
  }
 ],
 "metadata": {
  "kernelspec": {
   "display_name": "Python 3",
   "language": "python",
   "name": "python3"
  },
  "language_info": {
   "codemirror_mode": {
    "name": "ipython",
    "version": 3
   },
   "file_extension": ".py",
   "mimetype": "text/x-python",
   "name": "python",
   "nbconvert_exporter": "python",
   "pygments_lexer": "ipython3",
   "version": "3.7.6"
  }
 },
 "nbformat": 4,
 "nbformat_minor": 2
}
