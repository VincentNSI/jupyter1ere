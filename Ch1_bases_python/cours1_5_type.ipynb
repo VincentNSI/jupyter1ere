{
 "cells": [
  {
   "cell_type": "markdown",
   "metadata": {},
   "source": [
    "# V- Les types de base\n",
    "\n",
    "Toute donnée est codée avec des 0 et des 1 dans l'ordinateur. Pour les utiliser,  <code>Python</code>doivent savoir quel type de données il manipule.\n",
    "\n",
    "<i>Exercice</i>\n",
    "    \n",
    "<p><i>Tester la fonction ci-dessous en modifiant la ligne d'affectation de <code>x</code> et en utilisant  des valeurs numériques ou autres. \n",
    "    \n",
    "Par exemple 6, \"Salut\", True, -3.15, pi,...</i></p>"
   ]
  },
  {
   "cell_type": "code",
   "execution_count": 1,
   "metadata": {
    "collapsed": true
   },
   "outputs": [
    {
     "name": "stdout",
     "output_type": "stream",
     "text": [
      "-1 (<class 'int'>)\n"
     ]
    }
   ],
   "source": [
    "# Une fonction utilitaire\n",
    "def describe_variable(variable):\n",
    "    \"\"\"Retourne la valeur d'une variable et son type sous forme d'une chaîne.\"\"\"\n",
    "    return str.format(\"{} ({})\", variable, type(variable))\n",
    "\n",
    "x=-1  # modifier la valeur -1\n",
    "print(describe_variable(x))"
   ]
  },
  {
   "cell_type": "markdown",
   "metadata": {},
   "source": [
    "La classe affichée dans l'exemple est le <code>type</code> de la variable.\n",
    "Le <code>type</code> d'une variable définit ce que représente la valeur stockée dans la mémoire et les opérateurs qu'on peut lui appliquer. \n",
    "\n",
    "Certains langages demandent de déclarer une variable et son type avant de l'utiliser. Ce n'est pas le cas en Python où le type de la variable est établi lors de son affectation en fonction de la valeur qui est proposée. Cette possibilité s'appelle le Typage dynamique. Le typage dynamique facilite l'écriture du code mais en ignorant le type d'une variable, on peut créer des erreurs difficiles à détecter.\n",
    "\n",
    "Il est donc important de connaître les principaux types de variables en <code>python</code>:\n"
   ]
  },
  {
   "cell_type": "markdown",
   "metadata": {},
   "source": [
    "## Les booléens: BOOL\n",
    "Le type booléen décrit les deux valeurs de la logique binaire: Vrai ou Faux, identifiées aussi à 1 et 0.\n",
    "\n"
   ]
  },
  {
   "cell_type": "markdown",
   "metadata": {},
   "source": [
    "<span class=\"exo\">Exemple</span>"
   ]
  },
  {
   "cell_type": "code",
   "execution_count": 2,
   "metadata": {
    "collapsed": true
   },
   "outputs": [
    {
     "name": "stdout",
     "output_type": "stream",
     "text": [
      "True\n",
      "True True\n",
      "False\n"
     ]
    }
   ],
   "source": [
    "x,y=1,2\n",
    "print(x==1)\n",
    "print(True==1, False==0)\n",
    "print(x>y)"
   ]
  },
  {
   "cell_type": "markdown",
   "metadata": {},
   "source": [
    "Remarque: <I>En python3, bool est un sous-type de <code>int</code> présenté ci-dessous.</i>"
   ]
  },
  {
   "cell_type": "markdown",
   "metadata": {},
   "source": [
    "## Les entiers relatifs : INTEGERS (Int)\n",
    "\n",
    "En Python3, en principe, il n'y a pas de limite de taille pour les entiers."
   ]
  },
  {
   "cell_type": "markdown",
   "metadata": {},
   "source": [
    "**Exercice**\n",
    "\n",
    "Tester chacun des opérateurs et compléter la ligne de commentaire avec l'opération mathématique correspondante et le type du résultat"
   ]
  },
  {
   "cell_type": "code",
   "execution_count": 4,
   "metadata": {},
   "outputs": [
    {
     "name": "stdout",
     "output_type": "stream",
     "text": [
      "38 (<class 'int'>)\n",
      "-32 (<class 'int'>)\n",
      "105 (<class 'int'>)\n",
      "42875 (<class 'int'>)\n",
      "11.666666666666666 (<class 'float'>)\n",
      "11 (<class 'int'>)\n",
      "2 (<class 'int'>)\n"
     ]
    }
   ],
   "source": [
    "\n",
    "a,b=35,3\n",
    "print(describe_variable(a+b))  #\n",
    "print(describe_variable(b-a) ) #\n",
    "print(describe_variable(a*b) ) #\n",
    "print(describe_variable(a**b) ) #\n",
    "print(describe_variable(a/b))  #\n",
    "print(describe_variable(a//b))  #\n",
    "print(describe_variable(a%b))  #\n"
   ]
  },
  {
   "cell_type": "markdown",
   "metadata": {},
   "source": [
    "On se rappellera que <code>a//b</code> signifie quotient de la division euclidienne de <code>a</code> par <code>b</code> et <code>a%b</code> signifie reste de la division euclidienne de <code>a</code> par <code>b</code>.\n",
    "\n",
    "On remarque que <code>a/b</code> ne donne pas un entier. Python a donc répéré que le résultat n'est pas un <code>int</code> et classe donc le résultat sous un autre type: <code>float</code> (présenté ci-dessous)."
   ]
  },
  {
   "cell_type": "markdown",
   "metadata": {},
   "source": [
    "## Les réels: FLOATING POINT (Float)\n",
    "Le type <code>float</code> correspond à une façon de coder des nombres  réels mais ce codage ne permet d'avoir les valeurs exactes que pour une classe restreinte de ces nombres.\n",
    "\n",
    "Quelques exemples de <code>float</code>: 1.23, 5.35e-3, 1.5e+4 (\"<code>e-3</code>\" signifie \"<code>x10<sup>-3</sup></code>\").\n",
    "\n"
   ]
  },
  {
   "cell_type": "markdown",
   "metadata": {},
   "source": [
    "<I>Exercice\n",
    "\n",
    "Un exemple surprenant.</I>"
   ]
  },
  {
   "cell_type": "code",
   "execution_count": 6,
   "metadata": {
    "collapsed": true
   },
   "outputs": [
    {
     "name": "stdout",
     "output_type": "stream",
     "text": [
      "False\n",
      "0.30000000000000004\n"
     ]
    }
   ],
   "source": [
    "print(0.1+0.2==0.3)\n",
    "print(0.1+0.2)"
   ]
  },
  {
   "cell_type": "markdown",
   "metadata": {},
   "source": [
    "## Les chaînes de caractères: STRING (str)\n",
    "\n",
    "\n",
    "Une chaîne de caractères est une suite de plusieurs caractères. Les caractères peuvent être des lettres, des chiffres ou d'autres symboles. \n",
    "Une chaîne de caractères se note entre guillemets simples ou doubles. \n",
    "On peut avoir une chaîne vide, notée <code>''</code> ou <code>\"\"</code>. "
   ]
  },
  {
   "cell_type": "code",
   "execution_count": 7,
   "metadata": {
    "collapsed": true
   },
   "outputs": [
    {
     "name": "stdout",
     "output_type": "stream",
     "text": [
      "abracadabra  3g$\"y\n"
     ]
    }
   ],
   "source": [
    "exemple=\"abracadabra\" \n",
    "autre_exemple='3g$\"y'\n",
    "rien=''\n",
    "print(exemple, rien, autre_exemple)"
   ]
  },
  {
   "cell_type": "markdown",
   "metadata": {},
   "source": [
    "Les caractères d'une chaîne forment une collection ordonnée d'éléments (qu'on appelle une séquence), et pour accéder à un élément de la séquence on utilise son rang et des crochets.  Le rang du premier caractère est 0, donc le rang du dernière est égal à la longueur de la chaîne moins 1. On peut aussi sélectionner plusieurs caractères qui nous intéressent (slicing). \n",
    "\n",
    "<I>Exercice: Tester chacune des instructions ci-dessous et expliquer. </I>"
   ]
  },
  {
   "cell_type": "code",
   "execution_count": 8,
   "metadata": {
    "collapsed": true
   },
   "outputs": [
    {
     "name": "stdout",
     "output_type": "stream",
     "text": [
      "a\n",
      "3\n",
      "\"\n",
      "br\n",
      "abr\n",
      "racadabra\n",
      "arcdba\n",
      "11\n",
      "0\n"
     ]
    }
   ],
   "source": [
    "print(exemple[0])#\n",
    "print(autre_exemple[0])#\n",
    "print(autre_exemple[3])#\n",
    "print(exemple[1:3])#\n",
    "print(exemple[:3])#\n",
    "print(exemple[2:])#\n",
    "print(exemple[::2])#\n",
    "print(len(exemple))#\n",
    "print(len(rien))#"
   ]
  },
  {
   "cell_type": "markdown",
   "metadata": {},
   "source": [
    "On dispose de très nombreuses opérations et fonctions sur les chaînes de caractères.  "
   ]
  },
  {
   "cell_type": "markdown",
   "metadata": {},
   "source": [
    "La longueur d'une chaîne de caractères: <code>len()</code>  (length en anglais)"
   ]
  },
  {
   "cell_type": "code",
   "execution_count": 9,
   "metadata": {
    "collapsed": true
   },
   "outputs": [
    {
     "name": "stdout",
     "output_type": "stream",
     "text": [
      "11\n",
      "0\n"
     ]
    }
   ],
   "source": [
    "print(len(exemple))#\n",
    "print(len(rien))#"
   ]
  },
  {
   "cell_type": "markdown",
   "metadata": {},
   "source": [
    "### Concaténation des chaînes de caractères. \n",
    "Expliquer l'effet des symboles + et * lorsqu'ils sont utilisés avec des chaînes de caractères:"
   ]
  },
  {
   "cell_type": "code",
   "execution_count": 12,
   "metadata": {
    "collapsed": true
   },
   "outputs": [
    {
     "name": "stdout",
     "output_type": "stream",
     "text": [
      "abracadabra3g$\"y\n",
      "3g$\"yabracadabra\n",
      "abracadabraabracadabraabracadabra\n"
     ]
    }
   ],
   "source": [
    "exemple=\"abracadabra\"\n",
    "autre_exemple='3g$\"y'\n",
    "print(exemple+autre_exemple)\n",
    "print(autre_exemple+exemple)\n",
    "print(exemple*3)"
   ]
  }
 ],
 "metadata": {
  "kernelspec": {
   "display_name": "Python 3",
   "language": "python",
   "name": "python3"
  },
  "language_info": {
   "codemirror_mode": {
    "name": "ipython",
    "version": 3
   },
   "file_extension": ".py",
   "mimetype": "text/x-python",
   "name": "python",
   "nbconvert_exporter": "python",
   "pygments_lexer": "ipython3",
   "version": "3.7.3"
  }
 },
 "nbformat": 4,
 "nbformat_minor": 2
}
