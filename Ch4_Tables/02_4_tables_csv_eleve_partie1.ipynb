{
 "cells": [
  {
   "cell_type": "markdown",
   "metadata": {},
   "source": [
    "# <center>**TABLES DE DONNEES ET FORMAT CSV**</center>"
   ]
  },
  {
   "cell_type": "markdown",
   "metadata": {},
   "source": [
    "En 1965, Charles Bachman a mis au point l’architecture ANSI/Sparc, une structure de gestion des bases de données, \n",
    "elle est encore en vigueur actuellement.\n"
   ]
  },
  {
   "cell_type": "markdown",
   "metadata": {},
   "source": [
    "On travaillera ici sur un exemple : les notes en sciences de la classe BD :\n",
    "\n",
    "Nom       |Prénom    |maths     |physique  |SVT       \n",
    "----------|----------|----------|----------|----------\n",
    "Dalton    |Averell   |        12|         8|        10\n",
    "Maltese   |Corto     |        15|        14|        12\n",
    "Lucky     |Luke      |        12|         9|        17\n",
    "Talon     |Achile    |        20|        17|         6\n",
    "Duck      |Donald    |         7|        11|        16\n",
    "\n",
    "Le tableau ci-dessus a été enregistré au format csv dans le fichier \"notes_en_sciences.csv\".   \n",
    "Ouvrez et observez ce fichier dans un éditeur de texte (par exemple notepad++) puis dans un tableur.\n",
    "\n",
    "Chaque colonne de la base de données est appelé un **attribut**.\n",
    "Cette liste de listes est appelé **table**."
   ]
  },
  {
   "cell_type": "markdown",
   "metadata": {},
   "source": [
    "CSV : **Comma-Separated Values**, est un format de texte représentant les données d'un tableau sous forme de chaînes de caractères séparées par des virgules.\n",
    "\n",
    "Un fichier CSV est un fichier texte dans lequel chaque ligne de texte représente une ligne d'un tableau.    \n",
    "Les valeurs dans la ligne sont séparées par des virgules.\n",
    "\n",
    "Le séparateur par défaut est la virgule. Toutefois, il est fréquent de rencontrer le point-virgule comme séparateur, voire même un espace ou une tabulation."
   ]
  },
  {
   "cell_type": "markdown",
   "metadata": {},
   "source": [
    "**Python et les fichiers csv** :\n",
    "La bibliothèque standard de python contient le module **csv** qui propose des fonctions permettant de lire et enregistrer facilement des fichiers au format csv."
   ]
  },
  {
   "cell_type": "markdown",
   "metadata": {},
   "source": [
    "### 1) Lecture du fichier"
   ]
  },
  {
   "cell_type": "code",
   "execution_count": null,
   "metadata": {},
   "outputs": [],
   "source": [
    "import csv                                      # import du module (ou bilibothèque) csv"
   ]
  },
  {
   "cell_type": "code",
   "execution_count": null,
   "metadata": {},
   "outputs": [],
   "source": [
    "fichier_csv = open('notes_en_sciences.csv',\"r\") # Ouverture du fichier csv en mode lecture (r pour \"read\")\n",
    "reader_notes = csv.reader(fichier_csv)          # Création de l'itérateur reader qui va permettre\n",
    "for ligne in reader_notes:                      #          le parcours du fichier ligne par ligne\n",
    "    print(ligne)                                # Chaque ligne est une liste   \n",
    "fichier_csv.close()                             # Fermeture du fichier (à ne pas oublier)"
   ]
  },
  {
   "cell_type": "markdown",
   "metadata": {},
   "source": [
    "L'utilisation de **with** permet d'utiliser un protocole qui gère automatiquement la fermeture du fichier, même si un erreur survient.\n",
    "La séquence précédente devient alors :"
   ]
  },
  {
   "cell_type": "code",
   "execution_count": null,
   "metadata": {},
   "outputs": [],
   "source": [
    "with open('notes_en_sciences.csv', \"r\") as fichier_csv:\n",
    "    reader_notes = csv.reader(fichier_csv)          \n",
    "    for ligne in reader_notes:  \n",
    "        print(ligne) "
   ]
  },
  {
   "cell_type": "markdown",
   "metadata": {},
   "source": [
    "Si le séparateur n'est pas la virgule, comme c'est le cas dans le fichier \"notes_point_virgule.csv\", on n'obtient pas le résultat escompté :"
   ]
  },
  {
   "cell_type": "code",
   "execution_count": null,
   "metadata": {},
   "outputs": [],
   "source": [
    "with open('notes_point_virgule.csv', \"r\") as fichier_csv:\n",
    "    reader_notes = csv.reader(fichier_csv)          \n",
    "    for ligne in reader_notes:  \n",
    "        print(ligne, \"nombre d'éléments\", len(ligne)) "
   ]
  },
  {
   "cell_type": "markdown",
   "metadata": {},
   "source": [
    "Comme python ne trouve pas de virgule dans les lignes, il considère que chaque ligne est réduite à une seule grande chaine de caractères.\n",
    "\n",
    "On peut cependant indiquer le séparateur à utiliser avec l'argument **delimiter**."
   ]
  },
  {
   "cell_type": "code",
   "execution_count": null,
   "metadata": {},
   "outputs": [],
   "source": [
    "with open('notes_point_virgule.csv', \"r\") as fichier_csv:\n",
    "    reader_notes = csv.reader(fichier_csv, delimiter=';')          \n",
    "    for ligne in reader_notes:  \n",
    "        print(ligne, \"nombre d'éléments\", len(ligne)) "
   ]
  },
  {
   "cell_type": "markdown",
   "metadata": {},
   "source": [
    "### 2) Chargement de la table\n",
    "Complétez la fonction **lire_fichier_csv(nom_fichier)** afin qu'elle renvoie la table (liste des lignes) contenue dans le fichier \"notes_en_sciences.csv\".\n",
    "*Retour attendu:*  \n",
    "[['Dalton', 'Averell', '12', '8', '10'], ['Maltese', 'Corto', '15', '14', '12'], ['Lucky', 'luke', '12', '9', '17'], ['Talon', 'Achile', '20', '17', '6'], ['Duck', 'Donald', '7', '11', '16']]"
   ]
  },
  {
   "cell_type": "code",
   "execution_count": null,
   "metadata": {},
   "outputs": [],
   "source": [
    "def lire_fichier_csv(nom_fichier):\n",
    "    \"\"\"Votre code\"\"\"\n",
    "    \n",
    "##tests\n",
    "table_notes = lire_fichier_csv(\"notes_en_sciences.csv\")\n",
    "print(table_notes)"
   ]
  },
  {
   "cell_type": "markdown",
   "metadata": {},
   "source": [
    "Complétez la fonction **afficher_table(table)** afin qu'elle affiche de manière plus lisible la table."
   ]
  },
  {
   "cell_type": "raw",
   "metadata": {},
   "source": [
    "Retour attendu :\n",
    "Dalton    Averell   12        8         10        \n",
    "Maltese   Corto     15        14        12        \n",
    "Lucky     luke      12        9         17        \n",
    "Talon     Achile    20        17        6         \n",
    "Duck      Donald    7         11        16        "
   ]
  },
  {
   "cell_type": "code",
   "execution_count": null,
   "metadata": {},
   "outputs": [],
   "source": [
    "def affiche_table(table):\n",
    "    \"\"\"Votre code\"\"\"\n",
    "    \n",
    "##tests\n",
    "affiche_table(table_notes)"
   ]
  },
  {
   "cell_type": "markdown",
   "metadata": {},
   "source": [
    "### 3) Recherche d'une ligne"
   ]
  },
  {
   "cell_type": "markdown",
   "metadata": {},
   "source": [
    "Complétez la  fonction **cherche_eleve(table, nom_eleve)** qui renvoie la ligne correspondant à un élève.  \n",
    "*Retour attendu :*  \n",
    "['Talon', 'Achile', '20', '17', '6']"
   ]
  },
  {
   "cell_type": "code",
   "execution_count": null,
   "metadata": {},
   "outputs": [],
   "source": [
    "def cherche_eleve(table, nom_eleve):\n",
    "    \"\"\"Votre code\"\"\"\n",
    "\n",
    "##tests\n",
    "ligne_talon = cherche_eleve(table_notes, \"Talon\")\n",
    "print(ligne_talon)"
   ]
  },
  {
   "cell_type": "markdown",
   "metadata": {},
   "source": [
    "### 4) Recherche d'un élément de la table et modification d'un élément de la table"
   ]
  },
  {
   "cell_type": "markdown",
   "metadata": {},
   "source": [
    "Complétez la fonction **cherche_note_math(table,nom_eleve)** qui renvoie la note de math d'un élève.   "
   ]
  },
  {
   "cell_type": "code",
   "execution_count": null,
   "metadata": {},
   "outputs": [],
   "source": [
    "def cherche_note_math(table, nom_eleve):\n",
    "    \"\"\"Votre code\"\"\"\n",
    "\n",
    "##tests\n",
    "affiche_table(table_notes)\n",
    "note_math_Lucky = cherche_note_math(table_notes, \"Lucky\")\n",
    "print(\"La note de math de Lucky est\",note_math_Lucky)"
   ]
  },
  {
   "cell_type": "markdown",
   "metadata": {},
   "source": [
    "Complétez la  fonction **change_prenom(table,nom_eleve, nouveau_prenom)** qui met à jour le prénom d'un élève."
   ]
  },
  {
   "cell_type": "code",
   "execution_count": null,
   "metadata": {},
   "outputs": [],
   "source": [
    "def change_prenom(table, nom_eleve, nouveau_prenom):\n",
    "    \"\"\"Votre code\"\"\"\n",
    "\n",
    "##tests\n",
    "print(\"Avant changement de prénom pour Duck :\", cherche_eleve(table_notes, \"Duck\"))\n",
    "change_prenom(table_notes, \"Duck\", \"Daisy\")\n",
    "print(\"Après changement de prénom pour Duck :\", cherche_eleve(table_notes, \"Duck\"))"
   ]
  },
  {
   "cell_type": "markdown",
   "metadata": {},
   "source": [
    "Complétez la  fonction **augmente_un_note_math(table,nom_eleve)** qui augmente de 1 point la note de math d'un élève."
   ]
  },
  {
   "cell_type": "code",
   "execution_count": null,
   "metadata": {},
   "outputs": [],
   "source": [
    "def augmente_un_note_math(table, nom_eleve):\n",
    "    \"\"\"Votre code\"\"\"\n",
    "\n",
    "##tests\n",
    "print(\"Avant augmentation pour Duck :\", cherche_eleve(table_notes, \"Duck\"))\n",
    "augmente_un_note_math(table_notes, \"Duck\")\n",
    "print(\"Après augmentation pour Duck :\", cherche_eleve(table_notes, \"Duck\"))\n",
    "print(\"Avant augmentation pour Talon :\", cherche_eleve(table_notes, \"Talon\"))\n",
    "augmente_un_note_math(table_notes, \"Talon\")\n",
    "print(\"Après augmentation pour Talon :\", cherche_eleve(table_notes, \"Talon\"))"
   ]
  },
  {
   "cell_type": "markdown",
   "metadata": {},
   "source": [
    "### 5) Conversion des valeurs"
   ]
  },
  {
   "cell_type": "markdown",
   "metadata": {},
   "source": [
    "Lors de l'import d'un fichier csv toutes les valeurs sont de type chaîne de caractères.   \n",
    "Ces chaînes de caractères peuvent toutefois contenir une information de type entier, décimal, date, heure, booléen, couleur, ...    \n",
    "Dans l'exemple ci-dessus vous avez dû convertir la chaîne en entier pour pouvoir ajouter 1.  \n",
    "Pour pouvoir travailler avec notre table nous allons après le chargement de celle-ci convertir toutes les notes en entiers.   "
   ]
  },
  {
   "cell_type": "markdown",
   "metadata": {},
   "source": [
    "Complétez la fonction **convertir_ligne(ligne)** qui convertit les notes d'un élève au type int."
   ]
  },
  {
   "cell_type": "code",
   "execution_count": null,
   "metadata": {},
   "outputs": [],
   "source": [
    "def convertir_ligne(ligne):\n",
    "    \"\"\"Votre code\"\"\"\n",
    "\n",
    "##tests\n",
    "## rechargement de la table pour le test\n",
    "table_notes = lire_fichier_csv(\"notes_en_sciences.csv\")\n",
    "ligne_talon = cherche_eleve(table_notes, \"Talon\")\n",
    "print(\"Avant conversion pour Talon :\", ligne_talon)\n",
    "convertir_ligne(ligne_talon)\n",
    "ligne_talon = cherche_eleve(table_notes, \"Talon\")\n",
    "print(\"Après conversion pour Talon :\", ligne_talon)"
   ]
  },
  {
   "cell_type": "markdown",
   "metadata": {},
   "source": [
    "Complétez la fonction **convertir_table(table)** qui modifie la table en convertissant chacune de ses lignes."
   ]
  },
  {
   "cell_type": "code",
   "execution_count": null,
   "metadata": {},
   "outputs": [],
   "source": [
    "def convertir_table(table):\n",
    "    \"\"\"Votre code\"\"\"\n",
    "\n",
    "##tests\n",
    "## rechargement de la table pour le test\n",
    "table_notes = lire_fichier_csv(\"notes_en_sciences.csv\")\n",
    "print(\"Avant conversion :\\n\", table_notes)\n",
    "convertir_table(table_notes)\n",
    "print(\"Après conversion :\\n\", table_notes)"
   ]
  },
  {
   "cell_type": "markdown",
   "metadata": {},
   "source": [
    "### 6) Enregistrer un table"
   ]
  },
  {
   "cell_type": "markdown",
   "metadata": {},
   "source": [
    "Complétez la fonction enregistre(table, nom_fichier) qui enregistre la table au format csv.\n",
    "Le module csv fournit un reader pour la lecture d'un fichier csv, de la même manière il fournit un writer pour l'écriture dans un fichier. \n",
    "On pourra consulter la page suivante  : \n",
    "[module csv](https://docs.python.org/fr/3/library/csv.html) ou consulter l'aide avec un **help(csv.writer)**"
   ]
  },
  {
   "cell_type": "code",
   "execution_count": null,
   "metadata": {},
   "outputs": [],
   "source": [
    "def enregistre_fichier_csv(table, nom_fichier):\n",
    "    \"\"\"Votre code\"\"\"\n",
    "\n",
    "#tests\n",
    "table_notes = lire_fichier_csv(\"notes_en_sciences.csv\")\n",
    "print(\"Table initiale :\")\n",
    "affiche_table(table_notes)\n",
    "augmente_un_note_math(table_notes, \"Lucky\")\n",
    "change_prenom(table_notes, \"Duck\", \"Daisy\")\n",
    "enregistre_fichier_csv(table_notes,\"test_enregistrement.csv\")\n",
    "table_enregistree = lire_fichier_csv(\"test_enregistrement.csv\")\n",
    "print(\"Table enregistrée :\")\n",
    "affiche_table(table_enregistree)"
   ]
  }
 ],
 "metadata": {
  "celltoolbar": "Format de la Cellule Texte Brut",
  "kernelspec": {
   "display_name": "Python 3",
   "language": "python",
   "name": "python3"
  },
  "language_info": {
   "codemirror_mode": {
    "name": "ipython",
    "version": 3
   },
   "file_extension": ".py",
   "mimetype": "text/x-python",
   "name": "python",
   "nbconvert_exporter": "python",
   "pygments_lexer": "ipython3",
   "version": "3.7.6"
  }
 },
 "nbformat": 4,
 "nbformat_minor": 2
}
