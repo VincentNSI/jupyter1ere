{
 "cells": [
  {
   "cell_type": "markdown",
   "metadata": {},
   "source": [
    "## Ce Notebook concerne les fonctions en Python, ainsi que leurs spécifications. Il est à faire cette semaine et à rendre par mail."
   ]
  },
  {
   "cell_type": "markdown",
   "metadata": {},
   "source": [
    "**Exercice 1 :** Les fonctions suivantes ont toutes des erreurs, de syntaxe, d'indentation, de type de variable ou de résultats attendus.  \n",
    "A vous de les corriger pour qu'elles fonctionnent"
   ]
  },
  {
   "cell_type": "code",
   "execution_count": null,
   "metadata": {},
   "outputs": [],
   "source": [
    "#fonction 1\n",
    "def fois(n):\n",
    "print(2*n)\n",
    "\n",
    "fois(5)"
   ]
  },
  {
   "cell_type": "code",
   "execution_count": null,
   "metadata": {},
   "outputs": [],
   "source": [
    "#fonction 2\n",
    "def carre(n):\n",
    "    \"retourne le carre de x\n",
    "    x->float\n",
    "    resultat->float\"\n",
    "    return x**2\n",
    "\n",
    "carre(5)"
   ]
  },
  {
   "cell_type": "code",
   "execution_count": 3,
   "metadata": {},
   "outputs": [],
   "source": [
    "#fonction 3\n",
    "def cube(n=float)-->float:\n",
    "    \"\"\"retourne le cube de x\n",
    "    \"\"\"\n",
    "    return x**3\n",
    "\n",
    "cube(5)"
   ]
  },
  {
   "cell_type": "code",
   "execution_count": null,
   "metadata": {},
   "outputs": [],
   "source": [
    "#fonction 4\n",
    "def cubes(n)->float:\n",
    "    \"\"\"retourne le cube de x\n",
    "    \"\"\"\n",
    "    assert n==float\n",
    "    return n**3\n",
    "\n",
    "cubes(5)"
   ]
  },
  {
   "cell_type": "markdown",
   "metadata": {},
   "source": [
    "**Exercice 2 :** Ecrire une fonction \"suivant\" qui prend un entier et renvoie le suivant"
   ]
  },
  {
   "cell_type": "code",
   "execution_count": null,
   "metadata": {},
   "outputs": [],
   "source": []
  },
  {
   "cell_type": "markdown",
   "metadata": {},
   "source": [
    "**Exercice 3 :** Reprendre la fonction précédente et la compléter avec les spécifications. Elle doit vérifier le paramètre est un entier."
   ]
  },
  {
   "cell_type": "code",
   "execution_count": null,
   "metadata": {},
   "outputs": [],
   "source": []
  },
  {
   "cell_type": "markdown",
   "metadata": {},
   "source": [
    "**Exercice 4 :** Ecrire une fonction somme qui prend en paramètre un entier n (type int), et renvoie  la somme des n  premiers carrés parfaits non nul. Par exemple somme(4) prend la valeur 30 (1+4+9+16)."
   ]
  },
  {
   "cell_type": "code",
   "execution_count": null,
   "metadata": {},
   "outputs": [],
   "source": []
  },
  {
   "cell_type": "markdown",
   "metadata": {},
   "source": [
    "**Exercice 5 :** Ecrire une fonction double qui prend en argument un mot (type str) et renvoie le mot obtenue en doublant chaque lettre. Par exemple double(\"Bon\") prend la valeur \"BBoonn\"."
   ]
  },
  {
   "cell_type": "code",
   "execution_count": null,
   "metadata": {},
   "outputs": [],
   "source": []
  },
  {
   "cell_type": "markdown",
   "metadata": {},
   "source": [
    "**Exercice 6 :** Ecrire une fonction jeu qui prend en paramètre un entier n (type int), qui simule n lancers de dé à 6 faces et renvoie le le pour centage de 6 obtenue sur ces n lancers. "
   ]
  },
  {
   "cell_type": "code",
   "execution_count": null,
   "metadata": {},
   "outputs": [],
   "source": []
  }
 ],
 "metadata": {
  "kernelspec": {
   "display_name": "Python 3",
   "language": "python",
   "name": "python3"
  },
  "language_info": {
   "codemirror_mode": {
    "name": "ipython",
    "version": 3
   },
   "file_extension": ".py",
   "mimetype": "text/x-python",
   "name": "python",
   "nbconvert_exporter": "python",
   "pygments_lexer": "ipython3",
   "version": "3.7.6"
  }
 },
 "nbformat": 4,
 "nbformat_minor": 4
}
