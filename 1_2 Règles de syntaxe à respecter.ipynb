{
 "cells": [
  {
   "cell_type": "markdown",
   "metadata": {},
   "source": [
    "# II- Des règles de syntaxe à respecter : "
   ]
  },
  {
   "cell_type": "markdown",
   "metadata": {},
   "source": [
    "Les instructions Python s’écrivent en minuscule.  Mais on pourra utiliser des majuscules pour nommer des variables."
   ]
  },
  {
   "cell_type": "markdown",
   "metadata": {},
   "source": [
    "Le symbole # permet de faire un commentaire."
   ]
  },
  {
   "cell_type": "markdown",
   "metadata": {},
   "source": [
    "On ne peut pas ajouter d’espace en début de ligne car cela a une signification : on appelle indentation ce décalage qui permet de délimiter un bloc d’instructions dans une boucle ou une condition."
   ]
  },
  {
   "cell_type": "markdown",
   "metadata": {},
   "source": [
    "L’**affectation** : le symbole **=** qui permet de stocker une valeur numérique ou du texte dans une mémoire."
   ]
  },
  {
   "cell_type": "markdown",
   "metadata": {},
   "source": [
    "Les **entrées** et **sorties** : on utilise la fonction **input()** et la fonction **print()**"
   ]
  },
  {
   "cell_type": "markdown",
   "metadata": {},
   "source": [
    "La fonction **print()**"
   ]
  },
  {
   "cell_type": "code",
   "execution_count": 2,
   "metadata": {},
   "outputs": [
    {
     "name": "stdout",
     "output_type": "stream",
     "text": [
      "texte\n"
     ]
    }
   ],
   "source": [
    "print(\"texte\") # affiche le texte qui suit"
   ]
  },
  {
   "cell_type": "code",
   "execution_count": 3,
   "metadata": {},
   "outputs": [
    {
     "name": "stdout",
     "output_type": "stream",
     "text": [
      "6\n"
     ]
    }
   ],
   "source": [
    "a=6 #on affecte 6 à la variable a\n",
    "b=10 #on affecte 10 à la variable b\n",
    "print(a) # affiche la valeur de la variable a"
   ]
  },
  {
   "cell_type": "code",
   "execution_count": 4,
   "metadata": {},
   "outputs": [
    {
     "name": "stdout",
     "output_type": "stream",
     "text": [
      "6 10\n"
     ]
    }
   ],
   "source": [
    "print(a,b)  #affiche sans aller à la ligne les valeurs de a et b"
   ]
  },
  {
   "cell_type": "markdown",
   "metadata": {},
   "source": [
    "La fonction **input()**"
   ]
  },
  {
   "cell_type": "code",
   "execution_count": 5,
   "metadata": {},
   "outputs": [
    {
     "name": "stdout",
     "output_type": "stream",
     "text": [
      " question why\n"
     ]
    }
   ],
   "source": [
    "variable=input(\" question \")  # affiche une fenêtre où se trouve le texte question, \n",
    "                              # la réponse écrite est affectée à variable."
   ]
  },
  {
   "cell_type": "code",
   "execution_count": 7,
   "metadata": {},
   "outputs": [
    {
     "name": "stdout",
     "output_type": "stream",
     "text": [
      "ton prenom?fr\n",
      "ton age?23\n",
      "Bonjour  fr , je sais que tu as  23  ans\n"
     ]
    }
   ],
   "source": [
    "prenom=input(\"ton prenom?\")\n",
    "age=input(\"ton age?\")\n",
    "print(\"Bonjour \",prenom,\", je sais que tu as \",age,\" ans\")"
   ]
  }
 ],
 "metadata": {
  "kernelspec": {
   "display_name": "Python 3",
   "language": "python",
   "name": "python3"
  },
  "language_info": {
   "codemirror_mode": {
    "name": "ipython",
    "version": 3
   },
   "file_extension": ".py",
   "mimetype": "text/x-python",
   "name": "python",
   "nbconvert_exporter": "python",
   "pygments_lexer": "ipython3",
   "version": "3.7.6"
  }
 },
 "nbformat": 4,
 "nbformat_minor": 4
}
